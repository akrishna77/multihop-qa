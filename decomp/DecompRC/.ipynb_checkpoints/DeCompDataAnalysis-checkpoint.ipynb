{
 "cells": [
  {
   "cell_type": "code",
   "execution_count": 4,
   "metadata": {},
   "outputs": [],
   "source": [
    "import pandas as pd\n",
    "import numpy as np\n",
    "import json"
   ]
  },
  {
   "cell_type": "code",
   "execution_count": 32,
   "metadata": {},
   "outputs": [],
   "source": [
    "with open('data/decomposed-predictions/bridge_decomposed_dev_nbest_predictions.json') as json_data:\n",
    "    bridging = json.load(json_data)\n",
    "with open('data/decomposed-predictions/intersec_decomposed_dev_nbest_predictions.json') as json_data:\n",
    "    intersec = json.load(json_data)\n",
    "with open('data/decomposed-predictions/comparison_decomposed_dev_nbest_predictions.json') as json_data:\n",
    "    comparison = json.load(json_data)\n",
    "with open('data/decomposed-predictions/onehop_decomposed_dev_nbest_predictions.json') as json_data:\n",
    "    onehop = json.load(json_data)\n",
    "with open('data/decomposed-predictions/type_dev_predictions.json') as json_data:\n",
    "    type_prediction = json.load(json_data)\n",
    "with open('data/hotpot-all/dev.json') as json_data:\n",
    "    hotpot_dev = json.load(json_data)"
   ]
  },
  {
   "cell_type": "code",
   "execution_count": 40,
   "metadata": {},
   "outputs": [
    {
     "data": {
      "text/plain": [
       "{'title': '',\n",
       " 'paragraphs': [{'context': ['<title> meet corliss archer </title> meet corliss archer, a program from radio\\'s golden age, ran from january 7, 1943 to september 30, 1956. although it was cbs\\'s answer to nbc\\'s popular \"a date with judy\", it was also broadcast by nbc in 1948 as a summer replacement for \"the bob hope show\". from october 3, 1952 to june 26, 1953, it aired on abc, finally returning to cbs. despite the program\\'s long run, fewer than 24 episodes are known to exist.',\n",
       "    \"<title> shirley temple </title> shirley temple black (april 23, 1928 – february 10, 2014) was an american actress, singer, dancer, businesswoman, and diplomat who was hollywood's number one box-office draw as a child actress from 1935 to 1938. as an adult, she was named united states ambassador to ghana and to czechoslovakia and also served as chief of protocol of the united states.\",\n",
       "    '<title> janet waldo </title> janet marie waldo (february 4, 1920 – june 12, 2016) was an american radio and voice actress. she is best known in animation for voicing judy jetson, nancy in \"shazzan\", penelope pitstop, and josie in \"josie and the pussycats\", and on radio as the title character in \"meet corliss archer\".',\n",
       "    '<title> meet corliss archer (tv series) </title> meet corliss archer is an american television sitcom that aired on cbs (july 13, 1951 - august 10, 1951) and in syndication via the ziv company from april to december 1954. the program was an adaptation of the radio series of the same name, which was based on a series of short stories by f. hugh herbert.',\n",
       "    '<title> lord high treasurer </title> the post of lord high treasurer or lord treasurer was an english government position and has been a british government position since the acts of union of 1707. a holder of the post would be the third-highest-ranked great officer of state, below the lord high steward and the lord high chancellor.',\n",
       "    '<title> a kiss for corliss </title> a kiss for corliss is a 1949 american comedy film directed by richard wallace and written by howard dimsdale. it stars shirley temple in her final starring role as well as her final film appearance. it is a sequel to the 1945 film \"kiss and tell\". \"a kiss for corliss\" was retitled \"almost a bride\" before release and this title appears in the title sequence. the film was released on november 25, 1949, by united artists.',\n",
       "    \"<title> kiss and tell (1945 film) </title> kiss and tell is a 1945 american comedy film starring then 17-year-old shirley temple as corliss archer. in the film, two teenage girls cause their respective parents much concern when they start to become interested in boys. the parents' bickering about which girl is the worse influence causes more problems than it solves.\",\n",
       "    \"<title> secretary of state for constitutional affairs </title> the office of secretary of state for constitutional affairs was a british government position, created in 2003. certain functions of the lord chancellor which related to the lord chancellor's department were transferred to the secretary of state. at a later date further functions were also transferred to the secretary of state for constitutional affairs from the first secretary of state, a position within the government held by the deputy prime minister.\",\n",
       "    '<title> village accountant </title> the village accountant (variously known as \"patwari\", \"talati\", \"patel\", \"karnam\", \"adhikari\", \"shanbogaru\",\"patnaik\" etc.) is an administrative government position found in rural parts of the indian sub-continent. the office and the officeholder are called the \"patwari\" in telangana, bengal, north india and in pakistan while in sindh it is called \"tapedar\". the position is known as the \"karnam\" in andhra pradesh, \"patnaik\" in orissa or \"adhikari\" in tamil nadu, while it is commonly known as the \"talati\" in karnataka, gujarat and maharashtra. the position was known as the \"kulkarni\" in northern karnataka and maharashtra. the position was known as the \"shanbogaru\" in south karnataka.',\n",
       "    '<title> charles craft </title> charles craft (may 9, 1902 – september 19, 1968) was an english-born american film and television editor. born in the county of hampshire in england on may 9, 1902, craft would enter the film industry in hollywood in 1927. the first film he edited was the universal pictures silent film, \"painting the town\". over the next 25 years, craft would edit 90 feature-length films. in the early 1950s he would switch his focus to the small screen, his first show being \"racket squad\", from 1951–53, for which he was the main editor, editing 93 of the 98 episodes. he would work on several other series during the 1950s, including \"meet corliss archer\" (1954), \"science fiction theatre\" (1955–56), and \"highway patrol\" (1955–57). in the late 1950s and early 1960s he was one of the main editors on \"sea hunt\", starring lloyd bridges, editing over half of the episodes. his final film work would be editing \"flipper\\'s new adventure\" (1964, the sequel to 1963\\'s \"flipper\". when the film was made into a television series, craft would begin the editing duties on that show, editing the first 28 episodes before he retired in 1966. craft died on september 19, 1968 in los angeles, california.'],\n",
       "   'qas': [{'final_answers': ['Chief of Protocol'],\n",
       "     'question': 'What government position was held by the woman who portrayed Corliss Archer in the film Kiss and Tell?',\n",
       "     'answers': [[],\n",
       "      [{'text': 'chief of protocol', 'answer_start': 346}],\n",
       "      [],\n",
       "      [],\n",
       "      [],\n",
       "      [],\n",
       "      [],\n",
       "      [],\n",
       "      [],\n",
       "      []],\n",
       "     'id': '5a8c7595554299585d9e36b6',\n",
       "     'type': 'bridge'}]}]}"
      ]
     },
     "execution_count": 40,
     "metadata": {},
     "output_type": "execute_result"
    }
   ],
   "source": [
    "hotpot_dev['data'][1]"
   ]
  },
  {
   "cell_type": "code",
   "execution_count": 37,
   "metadata": {},
   "outputs": [
    {
     "data": {
      "text/plain": [
       "[[0.9996514685203547, 1]]"
      ]
     },
     "execution_count": 37,
     "metadata": {},
     "output_type": "execute_result"
    }
   ],
   "source": [
    "type_prediction['5a8b57f25542995d1e6f1371']"
   ]
  },
  {
   "cell_type": "code",
   "execution_count": 33,
   "metadata": {},
   "outputs": [
    {
     "data": {
      "text/plain": [
       "{'logit': [70.48064744472504, 42.20465010404587],\n",
       " 'evidence': '<title> ed wood </title> edward davis wood jr. (october 10, 1924 – december 10, 1978) was an @@ american @@ filmmaker, actor, writer, producer, and director. <title> deliver us from evil (2014 film) </title> deliver us from evil is a 2014 american supernatural horror film directed by @@ scott derrickson @@ and produced by jerry bruckheimer. the film is officially based on a 2001 non-fiction book entitled \"beware the night\" by ralph sarchie and lisa collier cool, and its marketing campaign highlighted that it was \"inspired by actual accounts\". the film stars eric bana, édgar ramírez, sean harris, olivia munn, and joel mchale in the main roles and was released on july 2, 2014.',\n",
       " 'queries': 'and ed wood of which same nationality? were scott derrickson american',\n",
       " 'text': 'scott derrickson'}"
      ]
     },
     "execution_count": 33,
     "metadata": {},
     "output_type": "execute_result"
    }
   ],
   "source": [
    "bridging['5a8b57f25542995d1e6f1371'][0]"
   ]
  },
  {
   "cell_type": "code",
   "execution_count": 34,
   "metadata": {},
   "outputs": [
    {
     "data": {
      "text/plain": [
       "{'text': 'american',\n",
       " 'logit': [43.55489283800125, 65.70848250389099],\n",
       " 'evidence': '<title> ed wood </title> edward davis wood jr. (october 10, 1924 – december 10, 1978) was an @@ american @@ filmmaker, actor, writer, producer, and director. <title> ed wood </title> edward davis wood jr. (october 10, 1924 – december 10, 1978) was an @@ american @@ filmmaker, actor, writer, producer, and director.',\n",
       " 'queries': 'were scott derrickson and ed wood ? were of the same nationality? ?'}"
      ]
     },
     "execution_count": 34,
     "metadata": {},
     "output_type": "execute_result"
    }
   ],
   "source": [
    "intersec['5a8b57f25542995d1e6f1371'][0]"
   ]
  },
  {
   "cell_type": "code",
   "execution_count": 35,
   "metadata": {},
   "outputs": [
    {
     "data": {
      "text/plain": [
       "{'text': 'yes',\n",
       " 'evidence': '<TITLE> Scott Derrickson </TITLE> Scott Derrickson (born July 16, 1966) is an @@ American @@ director, screenwriter and producer. He lives in Los Angeles, California. He is best known for directing horror films such as \"Sinister\", \"The Exorcism of Emily Rose\", and \"Deliver Us From Evil\", as well as the 2016 Marvel Cinematic Universe installment, \"Doctor Strange.\" <TITLE> Ed Wood </TITLE> Edward Davis Wood Jr. (October 10, 1924 - December 10, 1978) was an @@ American @@ filmmaker, actor, writer, producer, and director.'}"
      ]
     },
     "execution_count": 35,
     "metadata": {},
     "output_type": "execute_result"
    }
   ],
   "source": [
    "comparison['5a8b57f25542995d1e6f1371'][0]"
   ]
  },
  {
   "cell_type": "code",
   "execution_count": 22,
   "metadata": {},
   "outputs": [
    {
     "data": {
      "text/plain": [
       "[{'no_answer_logit': -0.3901653289794922,\n",
       "  'text': 'no',\n",
       "  'logit': 5.2336297035217285,\n",
       "  'evidence': '<title> ed wood </title> edward davis wood jr. (october 10, 1924 – december 10, 1978) was an american filmmaker, actor, writer, producer, and director.',\n",
       "  'probability': 1.0}]"
      ]
     },
     "execution_count": 22,
     "metadata": {},
     "output_type": "execute_result"
    }
   ],
   "source": [
    "onehop['5a8b57f25542995d1e6f1371']"
   ]
  },
  {
   "cell_type": "code",
   "execution_count": 42,
   "metadata": {},
   "outputs": [],
   "source": [
    "with open('out/decom-bridge/dev_predictions.json') as json_data:\n",
    "    bridging_pred = json.load(json_data)\n",
    "with open('out/decom-intersec/dev_predictions.json') as json_data:\n",
    "    intersec_pred = json.load(json_data)\n",
    "with open('out/scorer/dev_class_scores.json') as json_data:\n",
    "    scores = json.load(json_data)\n",
    "with open('out/scorer/dev_class_scores_pretty.json') as json_data:\n",
    "    final_scores = json.load(json_data)"
   ]
  },
  {
   "cell_type": "code",
   "execution_count": 28,
   "metadata": {},
   "outputs": [
    {
     "data": {
      "text/plain": [
       "['and ed wood of which same nationality?',\n",
       " 'were scott derrickson [ANSWER]',\n",
       " 'were scott derrickson and ed wood of the same nationality?',\n",
       " 'were scott derrickson and ed wood of the same nationality?']"
      ]
     },
     "execution_count": 28,
     "metadata": {},
     "output_type": "execute_result"
    }
   ],
   "source": [
    "bridging_pred['5a8b57f25542995d1e6f1371']"
   ]
  },
  {
   "cell_type": "code",
   "execution_count": 30,
   "metadata": {},
   "outputs": [
    {
     "data": {
      "text/plain": [
       "['were scott derrickson and ed wood ?',\n",
       " 'were of the same nationality? ?',\n",
       " 'were scott derrickson and ed wood of the same nationality?',\n",
       " 'were scott derrickson and ed wood of the same nationality?']"
      ]
     },
     "execution_count": 30,
     "metadata": {},
     "output_type": "execute_result"
    }
   ],
   "source": [
    "intersec_pred['5a8b57f25542995d1e6f1371']"
   ]
  },
  {
   "cell_type": "code",
   "execution_count": 49,
   "metadata": {},
   "outputs": [
    {
     "data": {
      "text/plain": [
       "[[0.00039027782121776725,\n",
       "  1.0,\n",
       "  0,\n",
       "  'Were Scott Derrickson and Ed Wood of the same nationality? (comparison) yes']]"
      ]
     },
     "execution_count": 49,
     "metadata": {},
     "output_type": "execute_result"
    }
   ],
   "source": [
    "scores['5a8b57f25542995d1e6f1371']"
   ]
  },
  {
   "cell_type": "code",
   "execution_count": 50,
   "metadata": {},
   "outputs": [
    {
     "data": {
      "text/plain": [
       "['yes', 'comparison']"
      ]
     },
     "execution_count": 50,
     "metadata": {},
     "output_type": "execute_result"
    }
   ],
   "source": [
    "final_scores['answer']['5a8b57f25542995d1e6f1371']"
   ]
  },
  {
   "cell_type": "code",
   "execution_count": null,
   "metadata": {},
   "outputs": [],
   "source": []
  }
 ],
 "metadata": {
  "kernelspec": {
   "display_name": "Python 3",
   "language": "python",
   "name": "python3"
  },
  "language_info": {
   "codemirror_mode": {
    "name": "ipython",
    "version": 3
   },
   "file_extension": ".py",
   "mimetype": "text/x-python",
   "name": "python",
   "nbconvert_exporter": "python",
   "pygments_lexer": "ipython3",
   "version": "3.6.10"
  }
 },
 "nbformat": 4,
 "nbformat_minor": 4
}
